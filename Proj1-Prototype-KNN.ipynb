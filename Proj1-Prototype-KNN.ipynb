{
 "cells": [
  {
   "cell_type": "markdown",
   "id": "cebe6524",
   "metadata": {},
   "source": [
    "# Prototype Selection for Nearest Neighbors"
   ]
  },
  {
   "cell_type": "code",
   "execution_count": 5,
   "id": "6a486839",
   "metadata": {},
   "outputs": [],
   "source": [
    "# Importing all the necessary libraries\n",
    "\n",
    "import numpy as np\n",
    "from mlxtend.data import loadlocal_mnist\n",
    "import matplotlib.pyplot as plt\n",
    "from sklearn.neighbors import BallTree\n",
    "\n",
    "import ipywidgets as widgets\n",
    "from IPython.display import display\n",
    "from ipywidgets import interact, interactive, fixed, interact_manual\n",
    "import pandas as pd"
   ]
  },
  {
   "cell_type": "code",
   "execution_count": 2,
   "id": "b9758f90",
   "metadata": {},
   "outputs": [],
   "source": [
    "# Loading all the MNIST training and testing data\n",
    "\n",
    "training_images_file = 'train-images.idx3-ubyte'\n",
    "training_labels_file = 'train-labels.idx1-ubyte'\n",
    "test_images_file = 't10k-images.idx3-ubyte'\n",
    "test_labels_file = 't10k-labels.idx1-ubyte'"
   ]
  },
  {
   "cell_type": "markdown",
   "id": "8b7199f1",
   "metadata": {},
   "source": [
    "### Loading data\n",
    "MNIST datasets have been loaded"
   ]
  },
  {
   "cell_type": "code",
   "execution_count": 3,
   "id": "04cd25fc",
   "metadata": {},
   "outputs": [],
   "source": [
    "x_train_images, y_train_labels = loadlocal_mnist( training_images_file, training_labels_file)\n",
    "x_test_images, y_test_labels = loadlocal_mnist(test_images_file, test_labels_file)"
   ]
  },
  {
   "cell_type": "code",
   "execution_count": 4,
   "id": "a5fef7c3",
   "metadata": {},
   "outputs": [
    {
     "name": "stdout",
     "output_type": "stream",
     "text": [
      "Dimension of training images: (60000, 784)\n",
      "Dimension of trainig labels: (60000,)\n",
      "Dimension of testing images: (10000, 784)\n",
      "Dimension of testing labels: (10000,)\n"
     ]
    }
   ],
   "source": [
    "# Dimensions of all training and testing images and labels\n",
    "\n",
    "print('Dimension of training images:', np.shape(x_train_images))\n",
    "print('Dimension of trainig labels:',np.shape(y_train_labels))\n",
    "print('Dimension of testing images:', np.shape(x_test_images))\n",
    "print('Dimension of testing labels:',np.shape(y_test_labels))"
   ]
  },
  {
   "cell_type": "code",
   "execution_count": 7,
   "id": "7a9f05c3",
   "metadata": {},
   "outputs": [],
   "source": [
    "# KNN Classification with accuracy\n",
    "def KNN_classifier(x_train, y_train, x_test, y_test, k=1):\n",
    "    from sklearn.neighbors import KNeighborsClassifier\n",
    "    from sklearn import metrics\n",
    "\n",
    "    x_train = np.array(x_train).reshape(len(x_train), -1)\n",
    "    x_test = np.array(x_test).reshape(len(x_test), -1)\n",
    "    \n",
    "    res = KNeighborsClassifier(n_neighbors=k)\n",
    "    res.fit(x_train, y_train)\n",
    "    \n",
    "    y_pred = res.predict(x_test)\n",
    "\n",
    "    test_acc = metrics.accuracy_score(y_test, y_pred)\n",
    "    return test_acc"
   ]
  },
  {
   "cell_type": "code",
   "execution_count": 8,
   "id": "81e5bd48",
   "metadata": {},
   "outputs": [
    {
     "data": {
      "text/plain": [
       "0.9691"
      ]
     },
     "execution_count": 8,
     "metadata": {},
     "output_type": "execute_result"
    }
   ],
   "source": [
    "# KNN Classifier with accuracy for the complete dataset\n",
    "\n",
    "KNN_classifier(x_train_images, y_train_labels, x_test_images, y_test_labels, k=1)"
   ]
  },
  {
   "cell_type": "code",
   "execution_count": 27,
   "id": "68169c44",
   "metadata": {},
   "outputs": [],
   "source": [
    "# NEW PROTOTYPE SELECTION Function\n",
    "\n",
    "def new_prototypes(M):\n",
    "    labels = []\n",
    "    for i in range(10):\n",
    "        labels.append(x_train_images[y_train_labels == i])\n",
    "    \n",
    "    from sklearn.cluster import KMeans\n",
    "\n",
    "    kmeans_res = []\n",
    "    samples = []\n",
    "\n",
    "    for i in range(10):\n",
    "        kmeans_res.append(KMeans(n_clusters=int(M/10), init='k-means++',random_state=0).fit(labels[i]))\n",
    "        samples.append(kmeans_res[i].cluster_centers_)\n",
    "\n",
    "    proto_sample = np.concatenate((samples[0], samples[1],\n",
    "                               samples[2], samples[3],\n",
    "                               samples[4], samples[5],\n",
    "                               samples[6], samples[7],\n",
    "                               samples[8], samples[9]\n",
    "                              ), axis = 0\n",
    "                              )\n",
    "    \n",
    "    sample_labels = []\n",
    "    for i in range(10):\n",
    "        sample_labels.append(np.full((int(M/10),), i))\n",
    "    \n",
    "    proto_labels = np.concatenate((sample_labels[0], sample_labels[1],\n",
    "                               sample_labels[2], sample_labels[3],\n",
    "                               sample_labels[4], sample_labels[5],\n",
    "                               sample_labels[6], sample_labels[7],\n",
    "                               sample_labels[8], sample_labels[9],\n",
    "                              ), axis = 0\n",
    "                              )\n",
    "    \n",
    "    return proto_sample, proto_labels"
   ]
  },
  {
   "cell_type": "code",
   "execution_count": 28,
   "id": "3f9b36ab",
   "metadata": {},
   "outputs": [],
   "source": [
    "# Random Prototype\n",
    "\n",
    "def random_prototypes(M):\n",
    "    indices = np.random.choice( len(y_train_labels) , M, replace=False)\n",
    "    return x_train_images[indices,:], y_train_labels[indices] "
   ]
  },
  {
   "cell_type": "code",
   "execution_count": 9,
   "id": "bfb3234f",
   "metadata": {},
   "outputs": [
    {
     "name": "stdout",
     "output_type": "stream",
     "text": [
      "Shape of train_data: (60000, 784)\n",
      "Shape of array of prototypes:  (1000, 784)\n"
     ]
    }
   ],
   "source": [
    "# example_images, example_labels = random_prototypes(1000)\n",
    "# print(\"Shape of train_data:\", x_train_images.shape)\n",
    "# print(\"Shape of array of prototypes: \", example_images.shape)"
   ]
  },
  {
   "cell_type": "code",
   "execution_count": 9,
   "id": "8c8eaa8f",
   "metadata": {},
   "outputs": [],
   "source": [
    "# Calculate KNN Error\n",
    "def KNN_error(prototype_data, prototype_labels):\n",
    "    ball_tree = BallTree(prototype_data, metric='euclidean')\n",
    "    test_neighbors = np.squeeze(ball_tree.query(x_test_images, k=1, return_distance=False))\n",
    "    test_fit = prototype_labels[test_neighbors]\n",
    "    return sum(test_fit != y_test_labels)/float(len(test_fit))"
   ]
  },
  {
   "cell_type": "code",
   "execution_count": 10,
   "id": "1aa14494",
   "metadata": {},
   "outputs": [],
   "source": [
    "# Calculate Mean Error\n",
    "def mean_error(prototype_func, M, k=1):\n",
    "    errors = np.zeros(k)\n",
    "    for i in range(0,k):\n",
    "        prototype_data, prototype_labels = prototype_func(M)\n",
    "        errors[i] = KNN_error(prototype_data, prototype_labels) \n",
    "    return np.mean(errors), np.std(errors)/np.sqrt(k)"
   ]
  },
  {
   "cell_type": "code",
   "execution_count": 12,
   "id": "6ab2ac80",
   "metadata": {},
   "outputs": [],
   "source": [
    "# Running the random selection data for 1NN on different M values\n",
    "\n",
    "M_values = [1000, 2000, 3000, 5000, 10000]\n",
    "randomp_errors = np.zeros(5)\n",
    "randomp_errorbars = np.zeros(5)\n",
    "for i in range(0, len(randomp_errors)):\n",
    "    randomp_errors[i], randomp_errorbars[i] = mean_error(random_prototypes, M_values[i], k=1)"
   ]
  },
  {
   "cell_type": "code",
   "execution_count": 14,
   "id": "e0f0f160",
   "metadata": {},
   "outputs": [],
   "source": [
    "# Running the new prototype data for 1NN on different M values\n",
    "\n",
    "newp_errors = np.zeros(5)\n",
    "newp_errorbars = np.zeros(5)\n",
    "for i in range(0, len(newp_errors)):\n",
    "    newp_errors[i], newp_errorbars[i] = mean_error(new_prototypes, M_values[i], k=1)"
   ]
  },
  {
   "cell_type": "code",
   "execution_count": 35,
   "id": "c2c73174",
   "metadata": {},
   "outputs": [
    {
     "name": "stdout",
     "output_type": "stream",
     "text": [
      "[0.1138 0.0916 0.0781 0.062  0.0504]\n",
      "Mean Accuracy: 0.92082\n",
      "Standard Deviation: 0.022259415985151094\n"
     ]
    }
   ],
   "source": [
    "# Random Selection Errors for the following values of M:\n",
    "# M = 100, 1000, 2000, 5000, 10000\n",
    "print(randomp_errors)\n",
    "print('Mean Accuracy: ' + str(np.average(1 - randomp_errors)))\n",
    "print('Standard Deviation: ' + str(np.std(randomp_errors)))"
   ]
  },
  {
   "cell_type": "code",
   "execution_count": 34,
   "id": "983a0327",
   "metadata": {},
   "outputs": [
    {
     "name": "stdout",
     "output_type": "stream",
     "text": [
      "[0.043  0.0369 0.0352 0.0331 0.0307]\n",
      "Mean Accuracy: 0.9642199999999999\n",
      "Standard Deviation: 0.004164324675142416\n"
     ]
    }
   ],
   "source": [
    "# New Prototype Errors for the following values of M:\n",
    "# M = 1000, 2000, 3000, 5000, 10000\n",
    "print(newp_errors)\n",
    "print('Mean Accuracy: ' + str(np.average(1 - newp_errors)))\n",
    "print('Standard Deviation: ' + str(np.std(newp_errors)))"
   ]
  },
  {
   "cell_type": "code",
   "execution_count": 41,
   "id": "01a7c26c",
   "metadata": {},
   "outputs": [
    {
     "data": {
      "image/png": "[encoded data removed]",
      "text/plain": [
       "<Figure size 432x288 with 1 Axes>"
      ]
     },
     "metadata": {
      "needs_background": "light"
     },
     "output_type": "display_data"
    }
   ],
   "source": [
    "# Plot of the errors in both the methods\n",
    "\n",
    "plt.errorbar(np.linspace(1000, 10000, 5), newp_errors, yerr=newp_errorbars*2.0, fmt='-o', label = 'New Prototype')\n",
    "plt.errorbar(np.linspace(1000, 10000, 5), randomp_errors, yerr=randomp_errorbars*2.0, fmt='-o', label = 'Random Prototype')\n",
    "\n",
    "plt.xlabel('Number of prototypes (M)', fontsize=14)\n",
    "plt.ylabel('Mean error', fontsize=14)\n",
    "plt.legend(loc = 'upper right')\n",
    "plt.show()"
   ]
  },
  {
   "cell_type": "code",
   "execution_count": 56,
   "id": "cd43fb44",
   "metadata": {},
   "outputs": [
    {
     "name": "stdout",
     "output_type": "stream",
     "text": [
      "0.013 1000 0.043\n",
      "0.008 2000 0.0369\n",
      "0.007 3000 0.0352\n",
      "0.005 5000 0.0331\n",
      "0.003 10000 0.0307\n"
     ]
    }
   ],
   "source": [
    "# Confidence Intervals\n",
    "import math\n",
    "for i in range(0, len(M_values)):\n",
    "        mean_accuracy = np.average(1 - newp_errors[i])\n",
    "        interval = 1.96 * math.sqrt( (mean_accuracy * (1 - mean_accuracy)) / M_values[i])\n",
    "        print('%.3f' % interval, M_values[i], newp_errors[i])"
   ]
  },
  {
   "cell_type": "code",
   "execution_count": 18,
   "id": "8bf75209",
   "metadata": {},
   "outputs": [
    {
     "data": {
      "application/vnd.jupyter.widget-view+json": {
       "model_id": "7ecb5dc3637c405da1249c3ec5e7f25a",
       "version_major": 2,
       "version_minor": 0
      },
      "text/plain": [
       "interactive(children=(IntSlider(value=5000, description='M', max=10000, min=1000, step=1000), IntSlider(value=…"
      ]
     },
     "metadata": {},
     "output_type": "display_data"
    }
   ],
   "source": [
    "@interact_manual(M=(1000,10000,1000), rounds=(1,10))\n",
    "def comparison(M, rounds):\n",
    "    print(\"Comparing your prototype selection method to random prototype selection...\")\n",
    "    rand_err, rand_std = mean_error(random_prototypes, M, rounds) \n",
    "    new_err, new_std = mean_error(new_prototypes, M, rounds) \n",
    "    \n",
    "    print;print(\"Number of prototypes:\", M)\n",
    "    print(\"Number of trials:\", rounds)\n",
    "    print(\"Error for random prototypes:\", rand_err )\n",
    "    print(\"Error for your prototypes:\", new_err );print\n",
    "    if rand_err < new_err:\n",
    "        print(\"RANDOM prototypes win!\")\n",
    "    else:\n",
    "        print(\"The new prototypes win!\")"
   ]
  }
 ],
 "metadata": {
  "kernelspec": {
   "display_name": "Python 3",
   "language": "python",
   "name": "python3"
  },
  "language_info": {
   "codemirror_mode": {
    "name": "ipython",
    "version": 3
   },
   "file_extension": ".py",
   "mimetype": "text/x-python",
   "name": "python",
   "nbconvert_exporter": "python",
   "pygments_lexer": "ipython3",
   "version": "3.8.8"
  }
 },
 "nbformat": 4,
 "nbformat_minor": 5
}
